{
 "cells": [
  {
   "cell_type": "markdown",
   "metadata": {},
   "source": [
    "<img src=\"https://static.wixstatic.com/media/a9ca5e_825bd4d39e7d468faf735b801fa3dea4~mv2.png/v1/fill/w_1458,h_246,al_c,usm_0.66_1.00_0.01/a9ca5e_825bd4d39e7d468faf735b801fa3dea4~mv2.png\" width=\"200\">"
   ]
  },
  {
   "cell_type": "markdown",
   "metadata": {},
   "source": [
    "\n",
    " __Notebook voor het importeren van APEX Legends data__\n",
    "\n",
    " __Auteur:__ Melvin Folkers (Yellow Stacks B.V.)<br>\n",
    " __Versie:__ 12 april 2020<br>\n",
    " ***\n",
    "\n",
    " "
   ]
  },
  {
   "cell_type": "markdown",
   "metadata": {},
   "source": [
    "# parameters"
   ]
  },
  {
   "cell_type": "markdown",
   "metadata": {},
   "source": [
    "## import libraries"
   ]
  },
  {
   "cell_type": "code",
   "execution_count": 1,
   "metadata": {},
   "outputs": [],
   "source": [
    "import os\n",
    "import pandas as pd\n",
    "import logging\n",
    "import requests\n",
    "import json"
   ]
  },
  {
   "cell_type": "markdown",
   "metadata": {},
   "source": [
    "## notebook settings"
   ]
  },
  {
   "cell_type": "code",
   "execution_count": 3,
   "metadata": {},
   "outputs": [
    {
     "data": {
      "text/html": [
       "<style>.container { width:100% !important; }</style>"
      ],
      "text/plain": [
       "<IPython.core.display.HTML object>"
      ]
     },
     "metadata": {},
     "output_type": "display_data"
    }
   ],
   "source": [
    "from IPython.core.display import display, HTML\n",
    "from IPython.core.interactiveshell import InteractiveShell\n",
    "from IPython.display import Image\n",
    "\n",
    "display(HTML(\"<style>.container { width:100% !important; }</style>\")) # maakt de jupyter notebook cellen 100% breed\n",
    "InteractiveShell.ast_node_interactivity = \"all\" # om meerdere grafieken/tabellen in 1 cel te kunnen laten zien.\n",
    "pd.options.display.max_columns = None # laat alle kolommen zien\n",
    "\n",
    "%matplotlib inline \n",
    "\n",
    "logger = logging.getLogger()\n",
    "logger.setLevel(logging.INFO)"
   ]
  },
  {
   "cell_type": "markdown",
   "metadata": {},
   "source": [
    "## Functies"
   ]
  },
  {
   "cell_type": "code",
   "execution_count": 4,
   "metadata": {},
   "outputs": [],
   "source": [
    "class SessionParameters():\n",
    "\n",
    "    def __init__(self, api_key, platform_id, user_id):\n",
    "\n",
    "        self.api_key = api_key\n",
    "        self.platform_id = platform_id\n",
    "        self.user_id  = user_id\n",
    "\n",
    "        self.url = f'https://public-api.tracker.gg/v2/apex/standard/profile/{self.platform_id}/{self.user_id}'\n",
    "        self.headers = {'Content-Type': 'text/json',\n",
    "                       'Accept-Charset': 'utf-8',\n",
    "                       'TRN-Api-Key': self.api_key}"
   ]
  },
  {
   "cell_type": "code",
   "execution_count": 5,
   "metadata": {},
   "outputs": [],
   "source": [
    "def request_data(params):\n",
    "    response = requests.get(params.url, headers = params.headers)\n",
    "    text = response.text\n",
    "    json_data = json.loads(text)\n",
    "    tables = json_data.get('data','')\n",
    "    logging.info('aanwezige tabellen:\\n {}'.format(', '.join([k for k,_v in tables.items()])))\n",
    "    \n",
    "    return tables"
   ]
  },
  {
   "cell_type": "code",
   "execution_count": 6,
   "metadata": {},
   "outputs": [],
   "source": [
    "def get_userinfo(tables):\n",
    "    userinfo = tables.get('userInfo')\n",
    "    userinfo.pop('socialAccounts')\n",
    "    user = pd.DataFrame(userinfo, index = [0])\n",
    "    \n",
    "    return user"
   ]
  },
  {
   "cell_type": "code",
   "execution_count": 7,
   "metadata": {},
   "outputs": [],
   "source": [
    "def get_segments(tables):\n",
    "    ttl = pd.DataFrame()\n",
    "\n",
    "    for segment in tables.get('segments'):\n",
    "\n",
    "        stats = get_stats(segment)\n",
    "\n",
    "        ttl = pd.concat([ttl, stats], axis = 0, sort = False)\n",
    "    \n",
    "    return ttl\n",
    "    "
   ]
  },
  {
   "cell_type": "code",
   "execution_count": 8,
   "metadata": {},
   "outputs": [],
   "source": [
    "def get_stats(segment):\n",
    "    \n",
    "    stats = segment.get('stats')\n",
    "    statlist = [x for x, _y in stats.items()]\n",
    "    d = dict()\n",
    "    \n",
    "    for x in statlist:\n",
    "        data = stats.get(x)\n",
    "\n",
    "        d['{} #'.format(data['displayName'])] = data['value']\n",
    "        d['{} %'.format(data['displayName'])] = data['percentile']\n",
    "    \n",
    "    df = pd.DataFrame(d, index = [0])\n",
    "    df['segment_name'] =  segment.get('metadata').get('name')\n",
    "    df['segment_img'] = segment.get('metadata').get('tallImageUrl')\n",
    "    df['segment_type'] = segment.get('type')\n",
    "    return df\n",
    "    "
   ]
  },
  {
   "cell_type": "markdown",
   "metadata": {},
   "source": [
    "# Gebruiker authenticeren"
   ]
  },
  {
   "cell_type": "code",
   "execution_count": 11,
   "metadata": {},
   "outputs": [],
   "source": [
    "api_key = os.environ.get('APEX_API_KEY')\n",
    "platform_id = 'xbl'\n",
    "user_id = 'cancan91'"
   ]
  },
  {
   "cell_type": "code",
   "execution_count": 12,
   "metadata": {},
   "outputs": [],
   "source": [
    "params = SessionParameters(api_key, platform_id, user_id)"
   ]
  },
  {
   "cell_type": "markdown",
   "metadata": {},
   "source": [
    "# Data opvragen van user "
   ]
  },
  {
   "cell_type": "code",
   "execution_count": 13,
   "metadata": {},
   "outputs": [
    {
     "name": "stderr",
     "output_type": "stream",
     "text": [
      "INFO:root:aanwezige tabellen:\n",
      " platformInfo, userInfo, metadata, segments, availableSegments, expiryDate\n"
     ]
    }
   ],
   "source": [
    "tables = request_data(params)"
   ]
  },
  {
   "cell_type": "code",
   "execution_count": 14,
   "metadata": {},
   "outputs": [],
   "source": [
    "platform = pd.DataFrame(tables.get('platformInfo'), index = [0])\n",
    "avatar_url = platform['avatarUrl'][0]"
   ]
  },
  {
   "cell_type": "code",
   "execution_count": 15,
   "metadata": {},
   "outputs": [
    {
     "data": {
      "text/html": [
       "<h1> data bekijken van cancan91</h1>"
      ],
      "text/plain": [
       "<IPython.core.display.HTML object>"
      ]
     },
     "metadata": {},
     "output_type": "display_data"
    },
    {
     "data": {
      "text/html": [
       "<img src=\"https://images-eds-ssl.xboxlive.com/image?url=8Oaj9Ryq1G1_p3lLnXlsaZgGzAie6Mnu24_PawYuDYIoH77pJ.X5Z.MqQPibUVTcS9jr0n8i7LY1tL3U7AiafUxWiVFofIdU2gur54fgFcYIV2V5.TAzxdqPpr5pORe9\" width=\"200\" height=\"200\"/>"
      ],
      "text/plain": [
       "<IPython.core.display.Image object>"
      ]
     },
     "execution_count": 15,
     "metadata": {},
     "output_type": "execute_result"
    }
   ],
   "source": [
    "display(HTML('<h1> data bekijken van {}</h1>'.format(platform['platformUserId'][0])))\n",
    "Image(url= avatar_url, width=200, height=200)"
   ]
  },
  {
   "cell_type": "code",
   "execution_count": 16,
   "metadata": {},
   "outputs": [
    {
     "data": {
      "text/plain": [
       "{'currentSeason': 2, 'activeLegend': 'legend_9', 'activeLegendName': 'Octane'}"
      ]
     },
     "execution_count": 16,
     "metadata": {},
     "output_type": "execute_result"
    }
   ],
   "source": [
    "tables.get('metadata')"
   ]
  },
  {
   "cell_type": "code",
   "execution_count": 17,
   "metadata": {},
   "outputs": [],
   "source": [
    "user = get_userinfo(tables)"
   ]
  },
  {
   "cell_type": "code",
   "execution_count": 18,
   "metadata": {},
   "outputs": [
    {
     "data": {
      "text/html": [
       "<div>\n",
       "<style scoped>\n",
       "    .dataframe tbody tr th:only-of-type {\n",
       "        vertical-align: middle;\n",
       "    }\n",
       "\n",
       "    .dataframe tbody tr th {\n",
       "        vertical-align: top;\n",
       "    }\n",
       "\n",
       "    .dataframe thead th {\n",
       "        text-align: right;\n",
       "    }\n",
       "</style>\n",
       "<table border=\"1\" class=\"dataframe\">\n",
       "  <thead>\n",
       "    <tr style=\"text-align: right;\">\n",
       "      <th></th>\n",
       "      <th>isPremium</th>\n",
       "      <th>isVerified</th>\n",
       "      <th>isInfluencer</th>\n",
       "      <th>countryCode</th>\n",
       "      <th>customAvatarUrl</th>\n",
       "      <th>customHeroUrl</th>\n",
       "    </tr>\n",
       "  </thead>\n",
       "  <tbody>\n",
       "    <tr>\n",
       "      <th>0</th>\n",
       "      <td>False</td>\n",
       "      <td>False</td>\n",
       "      <td>False</td>\n",
       "      <td>None</td>\n",
       "      <td>None</td>\n",
       "      <td>None</td>\n",
       "    </tr>\n",
       "  </tbody>\n",
       "</table>\n",
       "</div>"
      ],
      "text/plain": [
       "   isPremium  isVerified  isInfluencer countryCode customAvatarUrl  \\\n",
       "0      False       False         False        None            None   \n",
       "\n",
       "  customHeroUrl  \n",
       "0          None  "
      ]
     },
     "execution_count": 18,
     "metadata": {},
     "output_type": "execute_result"
    }
   ],
   "source": [
    "user"
   ]
  },
  {
   "cell_type": "code",
   "execution_count": 19,
   "metadata": {},
   "outputs": [],
   "source": [
    "metadata = pd.DataFrame(tables.get('metadata'), index = [0])"
   ]
  },
  {
   "cell_type": "code",
   "execution_count": 20,
   "metadata": {},
   "outputs": [
    {
     "data": {
      "text/html": [
       "<div>\n",
       "<style scoped>\n",
       "    .dataframe tbody tr th:only-of-type {\n",
       "        vertical-align: middle;\n",
       "    }\n",
       "\n",
       "    .dataframe tbody tr th {\n",
       "        vertical-align: top;\n",
       "    }\n",
       "\n",
       "    .dataframe thead th {\n",
       "        text-align: right;\n",
       "    }\n",
       "</style>\n",
       "<table border=\"1\" class=\"dataframe\">\n",
       "  <thead>\n",
       "    <tr style=\"text-align: right;\">\n",
       "      <th></th>\n",
       "      <th>currentSeason</th>\n",
       "      <th>activeLegend</th>\n",
       "      <th>activeLegendName</th>\n",
       "    </tr>\n",
       "  </thead>\n",
       "  <tbody>\n",
       "    <tr>\n",
       "      <th>0</th>\n",
       "      <td>2</td>\n",
       "      <td>legend_9</td>\n",
       "      <td>Octane</td>\n",
       "    </tr>\n",
       "  </tbody>\n",
       "</table>\n",
       "</div>"
      ],
      "text/plain": [
       "   currentSeason activeLegend activeLegendName\n",
       "0              2     legend_9           Octane"
      ]
     },
     "execution_count": 20,
     "metadata": {},
     "output_type": "execute_result"
    }
   ],
   "source": [
    "metadata"
   ]
  },
  {
   "cell_type": "code",
   "execution_count": 21,
   "metadata": {},
   "outputs": [],
   "source": [
    "segments = get_segments(tables)"
   ]
  },
  {
   "cell_type": "code",
   "execution_count": 23,
   "metadata": {},
   "outputs": [
    {
     "data": {
      "text/html": [
       "<div>\n",
       "<style scoped>\n",
       "    .dataframe tbody tr th:only-of-type {\n",
       "        vertical-align: middle;\n",
       "    }\n",
       "\n",
       "    .dataframe tbody tr th {\n",
       "        vertical-align: top;\n",
       "    }\n",
       "\n",
       "    .dataframe thead th {\n",
       "        text-align: right;\n",
       "    }\n",
       "</style>\n",
       "<table border=\"1\" class=\"dataframe\">\n",
       "  <thead>\n",
       "    <tr style=\"text-align: right;\">\n",
       "      <th></th>\n",
       "      <th>Level #</th>\n",
       "      <th>Level %</th>\n",
       "      <th>Kills #</th>\n",
       "      <th>Kills %</th>\n",
       "      <th>Rank Score #</th>\n",
       "      <th>Rank Score %</th>\n",
       "      <th>Season 3 Wins #</th>\n",
       "      <th>Season 3 Wins %</th>\n",
       "      <th>Season 4 Wins #</th>\n",
       "      <th>Season 4 Wins %</th>\n",
       "      <th>segment_name</th>\n",
       "      <th>segment_img</th>\n",
       "      <th>segment_type</th>\n",
       "      <th>Stim Distance Travelled #</th>\n",
       "      <th>Stim Distance Travelled %</th>\n",
       "      <th>NOX: Gas Damage Dealt #</th>\n",
       "      <th>NOX: Gas Damage Dealt %</th>\n",
       "      <th>Rifts: Squadmates Phased #</th>\n",
       "      <th>Rifts: Squadmates Phased %</th>\n",
       "    </tr>\n",
       "  </thead>\n",
       "  <tbody>\n",
       "    <tr>\n",
       "      <th>0</th>\n",
       "      <td>182.0</td>\n",
       "      <td>84.0</td>\n",
       "      <td>199.0</td>\n",
       "      <td>60.0</td>\n",
       "      <td>1190.0</td>\n",
       "      <td>72.0</td>\n",
       "      <td>5.0</td>\n",
       "      <td>90</td>\n",
       "      <td>1.0</td>\n",
       "      <td>84.0</td>\n",
       "      <td>Lifetime</td>\n",
       "      <td>None</td>\n",
       "      <td>overview</td>\n",
       "      <td>NaN</td>\n",
       "      <td>NaN</td>\n",
       "      <td>NaN</td>\n",
       "      <td>NaN</td>\n",
       "      <td>NaN</td>\n",
       "      <td>NaN</td>\n",
       "    </tr>\n",
       "    <tr>\n",
       "      <th>0</th>\n",
       "      <td>NaN</td>\n",
       "      <td>NaN</td>\n",
       "      <td>88.0</td>\n",
       "      <td>53.0</td>\n",
       "      <td>NaN</td>\n",
       "      <td>NaN</td>\n",
       "      <td>NaN</td>\n",
       "      <td>NaN</td>\n",
       "      <td>1.0</td>\n",
       "      <td>87.0</td>\n",
       "      <td>Octane</td>\n",
       "      <td>https://trackercdn.com/cdn/apex.tracker.gg/leg...</td>\n",
       "      <td>legend</td>\n",
       "      <td>26040.0</td>\n",
       "      <td>93.0</td>\n",
       "      <td>NaN</td>\n",
       "      <td>NaN</td>\n",
       "      <td>NaN</td>\n",
       "      <td>NaN</td>\n",
       "    </tr>\n",
       "    <tr>\n",
       "      <th>0</th>\n",
       "      <td>NaN</td>\n",
       "      <td>NaN</td>\n",
       "      <td>79.0</td>\n",
       "      <td>66.0</td>\n",
       "      <td>NaN</td>\n",
       "      <td>NaN</td>\n",
       "      <td>5.0</td>\n",
       "      <td>95.2</td>\n",
       "      <td>NaN</td>\n",
       "      <td>NaN</td>\n",
       "      <td>Caustic</td>\n",
       "      <td>https://trackercdn.com/cdn/apex.tracker.gg/leg...</td>\n",
       "      <td>legend</td>\n",
       "      <td>NaN</td>\n",
       "      <td>NaN</td>\n",
       "      <td>3476.0</td>\n",
       "      <td>93.0</td>\n",
       "      <td>NaN</td>\n",
       "      <td>NaN</td>\n",
       "    </tr>\n",
       "    <tr>\n",
       "      <th>0</th>\n",
       "      <td>NaN</td>\n",
       "      <td>NaN</td>\n",
       "      <td>32.0</td>\n",
       "      <td>37.0</td>\n",
       "      <td>NaN</td>\n",
       "      <td>NaN</td>\n",
       "      <td>0.0</td>\n",
       "      <td>None</td>\n",
       "      <td>NaN</td>\n",
       "      <td>NaN</td>\n",
       "      <td>Wraith</td>\n",
       "      <td>https://trackercdn.com/cdn/apex.tracker.gg/leg...</td>\n",
       "      <td>legend</td>\n",
       "      <td>NaN</td>\n",
       "      <td>NaN</td>\n",
       "      <td>NaN</td>\n",
       "      <td>NaN</td>\n",
       "      <td>13.0</td>\n",
       "      <td>96.5</td>\n",
       "    </tr>\n",
       "  </tbody>\n",
       "</table>\n",
       "</div>"
      ],
      "text/plain": [
       "   Level #  Level %  Kills #  Kills %  Rank Score #  Rank Score %  \\\n",
       "0    182.0     84.0    199.0     60.0        1190.0          72.0   \n",
       "0      NaN      NaN     88.0     53.0           NaN           NaN   \n",
       "0      NaN      NaN     79.0     66.0           NaN           NaN   \n",
       "0      NaN      NaN     32.0     37.0           NaN           NaN   \n",
       "\n",
       "   Season 3 Wins # Season 3 Wins %  Season 4 Wins #  Season 4 Wins %  \\\n",
       "0              5.0              90              1.0             84.0   \n",
       "0              NaN             NaN              1.0             87.0   \n",
       "0              5.0            95.2              NaN              NaN   \n",
       "0              0.0            None              NaN              NaN   \n",
       "\n",
       "  segment_name                                        segment_img  \\\n",
       "0     Lifetime                                               None   \n",
       "0       Octane  https://trackercdn.com/cdn/apex.tracker.gg/leg...   \n",
       "0      Caustic  https://trackercdn.com/cdn/apex.tracker.gg/leg...   \n",
       "0       Wraith  https://trackercdn.com/cdn/apex.tracker.gg/leg...   \n",
       "\n",
       "  segment_type  Stim Distance Travelled #  Stim Distance Travelled %  \\\n",
       "0     overview                        NaN                        NaN   \n",
       "0       legend                    26040.0                       93.0   \n",
       "0       legend                        NaN                        NaN   \n",
       "0       legend                        NaN                        NaN   \n",
       "\n",
       "   NOX: Gas Damage Dealt #  NOX: Gas Damage Dealt %  \\\n",
       "0                      NaN                      NaN   \n",
       "0                      NaN                      NaN   \n",
       "0                   3476.0                     93.0   \n",
       "0                      NaN                      NaN   \n",
       "\n",
       "   Rifts: Squadmates Phased #  Rifts: Squadmates Phased %  \n",
       "0                         NaN                         NaN  \n",
       "0                         NaN                         NaN  \n",
       "0                         NaN                         NaN  \n",
       "0                        13.0                        96.5  "
      ]
     },
     "execution_count": 23,
     "metadata": {},
     "output_type": "execute_result"
    }
   ],
   "source": [
    "segments"
   ]
  },
  {
   "cell_type": "markdown",
   "metadata": {},
   "source": [
    "# Read statistics"
   ]
  },
  {
   "cell_type": "code",
   "execution_count": 437,
   "metadata": {},
   "outputs": [
    {
     "data": {
      "text/html": [
       "<font color = \"green\"><big><b>overview - Lifetime</b></big></font><br><br><i>Level #</i> :<b>181.0</b><br><i>Level %</i> :<b>84.0</b><br><i>Kills #</i> :<b>199.0</b><br><i>Kills %</i> :<b>60.0</b><br><i>Rank Score #</i> :<b>1190.0</b><br><i>Rank Score %</i> :<b>72.0</b><br><i>Season 3 Wins #</i> :<b>5.0</b><br><i>Season 3 Wins %</i> :<b>90.0</b><br><i>Season 4 Wins #</i> :<b>1.0</b><br><i>Season 4 Wins %</i> :<b>84.0</b><br><i>NOX: Gas Damage Dealt #</i> :<b>nan</b><br><i>NOX: Gas Damage Dealt %</i> :<b>nan</b><br><i>Stim Distance Travelled #</i> :<b>nan</b><br><i>Stim Distance Travelled %</i> :<b>nan</b><br><i>Rifts: Squadmates Phased #</i> :<b>nan</b><br><i>Rifts: Squadmates Phased %</i> :<b>nan</b>"
      ],
      "text/plain": [
       "<IPython.core.display.HTML object>"
      ]
     },
     "execution_count": 437,
     "metadata": {},
     "output_type": "execute_result"
    },
    {
     "data": {
      "text/html": [
       "<img src=\"https://trackercdn.com/cdn/apex.tracker.gg/legends/caustic-tall.png\" width=\"200\" height=\"200\"/>"
      ],
      "text/plain": [
       "<IPython.core.display.Image object>"
      ]
     },
     "execution_count": 437,
     "metadata": {},
     "output_type": "execute_result"
    },
    {
     "data": {
      "text/html": [
       "<font color = \"green\"><big><b>legend - Caustic</b></big></font><br><br><i>Level #</i> :<b>nan</b><br><i>Level %</i> :<b>nan</b><br><i>Kills #</i> :<b>79.0</b><br><i>Kills %</i> :<b>66.0</b><br><i>Rank Score #</i> :<b>nan</b><br><i>Rank Score %</i> :<b>nan</b><br><i>Season 3 Wins #</i> :<b>5.0</b><br><i>Season 3 Wins %</i> :<b>95.2</b><br><i>Season 4 Wins #</i> :<b>nan</b><br><i>Season 4 Wins %</i> :<b>nan</b><br><i>NOX: Gas Damage Dealt #</i> :<b>3476.0</b><br><i>NOX: Gas Damage Dealt %</i> :<b>93.0</b><br><i>Stim Distance Travelled #</i> :<b>nan</b><br><i>Stim Distance Travelled %</i> :<b>nan</b><br><i>Rifts: Squadmates Phased #</i> :<b>nan</b><br><i>Rifts: Squadmates Phased %</i> :<b>nan</b>"
      ],
      "text/plain": [
       "<IPython.core.display.HTML object>"
      ]
     },
     "execution_count": 437,
     "metadata": {},
     "output_type": "execute_result"
    },
    {
     "data": {
      "text/html": [
       "<img src=\"https://trackercdn.com/cdn/apex.tracker.gg/legends/octane-tall.png\" width=\"200\" height=\"200\"/>"
      ],
      "text/plain": [
       "<IPython.core.display.Image object>"
      ]
     },
     "execution_count": 437,
     "metadata": {},
     "output_type": "execute_result"
    },
    {
     "data": {
      "text/html": [
       "<font color = \"green\"><big><b>legend - Octane</b></big></font><br><br><i>Level #</i> :<b>nan</b><br><i>Level %</i> :<b>nan</b><br><i>Kills #</i> :<b>88.0</b><br><i>Kills %</i> :<b>53.0</b><br><i>Rank Score #</i> :<b>nan</b><br><i>Rank Score %</i> :<b>nan</b><br><i>Season 3 Wins #</i> :<b>nan</b><br><i>Season 3 Wins %</i> :<b>nan</b><br><i>Season 4 Wins #</i> :<b>1.0</b><br><i>Season 4 Wins %</i> :<b>87.0</b><br><i>NOX: Gas Damage Dealt #</i> :<b>nan</b><br><i>NOX: Gas Damage Dealt %</i> :<b>nan</b><br><i>Stim Distance Travelled #</i> :<b>26040.0</b><br><i>Stim Distance Travelled %</i> :<b>93.0</b><br><i>Rifts: Squadmates Phased #</i> :<b>nan</b><br><i>Rifts: Squadmates Phased %</i> :<b>nan</b>"
      ],
      "text/plain": [
       "<IPython.core.display.HTML object>"
      ]
     },
     "execution_count": 437,
     "metadata": {},
     "output_type": "execute_result"
    },
    {
     "data": {
      "text/html": [
       "<img src=\"https://trackercdn.com/cdn/apex.tracker.gg/legends/wraith-tall.png\" width=\"200\" height=\"200\"/>"
      ],
      "text/plain": [
       "<IPython.core.display.Image object>"
      ]
     },
     "execution_count": 437,
     "metadata": {},
     "output_type": "execute_result"
    },
    {
     "data": {
      "text/html": [
       "<font color = \"green\"><big><b>legend - Wraith</b></big></font><br><br><i>Level #</i> :<b>nan</b><br><i>Level %</i> :<b>nan</b><br><i>Kills #</i> :<b>32.0</b><br><i>Kills %</i> :<b>37.0</b><br><i>Rank Score #</i> :<b>nan</b><br><i>Rank Score %</i> :<b>nan</b><br><i>Season 3 Wins #</i> :<b>0.0</b><br><i>Season 3 Wins %</i> :<b>None</b><br><i>Season 4 Wins #</i> :<b>nan</b><br><i>Season 4 Wins %</i> :<b>nan</b><br><i>NOX: Gas Damage Dealt #</i> :<b>nan</b><br><i>NOX: Gas Damage Dealt %</i> :<b>nan</b><br><i>Stim Distance Travelled #</i> :<b>nan</b><br><i>Stim Distance Travelled %</i> :<b>nan</b><br><i>Rifts: Squadmates Phased #</i> :<b>13.0</b><br><i>Rifts: Squadmates Phased %</i> :<b>96.5</b>"
      ],
      "text/plain": [
       "<IPython.core.display.HTML object>"
      ]
     },
     "execution_count": 437,
     "metadata": {},
     "output_type": "execute_result"
    }
   ],
   "source": [
    "for index, row in segments.iterrows():\n",
    "    txt = '<br>'.join([ f'<i>{k}</i> :<b>{v}</b>' for k,v in row.items() if k.startswith('segment') == False])\n",
    "    \n",
    "    if row['segment_img']:\n",
    "        Image(url= row['segment_img'], width=200, height=200)\n",
    "    HTML('<font color = \"green\"><big><b>{} - {}</b></big></font><br><br>{}'.format(row['segment_type'], row['segment_name'], txt))"
   ]
  },
  {
   "cell_type": "code",
   "execution_count": null,
   "metadata": {},
   "outputs": [],
   "source": []
  }
 ],
 "metadata": {
  "kernelspec": {
   "display_name": "Python 3",
   "language": "python",
   "name": "python3"
  },
  "language_info": {
   "codemirror_mode": {
    "name": "ipython",
    "version": 3
   },
   "file_extension": ".py",
   "mimetype": "text/x-python",
   "name": "python",
   "nbconvert_exporter": "python",
   "pygments_lexer": "ipython3",
   "version": "3.7.3"
  }
 },
 "nbformat": 4,
 "nbformat_minor": 4
}
